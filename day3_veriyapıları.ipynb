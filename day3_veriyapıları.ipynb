{
  "nbformat": 4,
  "nbformat_minor": 0,
  "metadata": {
    "colab": {
      "provenance": []
    },
    "kernelspec": {
      "name": "python3",
      "display_name": "Python 3"
    },
    "language_info": {
      "name": "python"
    }
  },
  "cells": [
    {
      "cell_type": "code",
      "execution_count": 1,
      "metadata": {
        "colab": {
          "base_uri": "https://localhost:8080/"
        },
        "id": "CADysLBwzK0b",
        "outputId": "b1bc3b3a-7b85-4140-e277-7318e548dcfc"
      },
      "outputs": [
        {
          "output_type": "stream",
          "name": "stdout",
          "text": [
            "x,5'ten büyüktür.\n"
          ]
        }
      ],
      "source": [
        "#if koşul yapısı\n",
        "x=10\n",
        "if x > 5:\n",
        "  print(\"x,5'ten büyüktür.\")"
      ]
    },
    {
      "cell_type": "code",
      "source": [
        "# if-else Koşulu yapısı\n",
        "\n",
        "x = 3\n",
        "\n",
        "if x > 5:\n",
        "    print(\"x, 5'ten büyüktür.\")\n",
        "else:\n",
        "    print(\"x, 5'ten küçük veya eşittir.\")\n",
        ""
      ],
      "metadata": {
        "colab": {
          "base_uri": "https://localhost:8080/"
        },
        "id": "HYo0LfZE44cI",
        "outputId": "c064973b-89f4-4be6-9355-86f1c9dae7ff"
      },
      "execution_count": 2,
      "outputs": [
        {
          "output_type": "stream",
          "name": "stdout",
          "text": [
            "x, 5'ten küçük veya eşittir.\n"
          ]
        }
      ]
    },
    {
      "cell_type": "code",
      "source": [
        "# if-elif-else Koşul Yapısı\n",
        "\n",
        "x = 8\n",
        "\n",
        "if x > 10:\n",
        "    print(\"x, 10'dan büyüktür.\")\n",
        "elif x > 5:\n",
        "    print(\"x, 5'ten büyüktür ama 10'dan küçük veya eşittir.\")\n",
        "else:\n",
        "    print(\"x, 5'ten küçük veya eşittir.\")\n",
        ""
      ],
      "metadata": {
        "colab": {
          "base_uri": "https://localhost:8080/"
        },
        "id": "Ho4SnLSt5atM",
        "outputId": "39dc0233-62a7-42dc-c8ab-ec30d8aed23e"
      },
      "execution_count": 3,
      "outputs": [
        {
          "output_type": "stream",
          "name": "stdout",
          "text": [
            "x, 5'ten büyüktür ama 10'dan küçük veya eşittir.\n"
          ]
        }
      ]
    },
    {
      "cell_type": "code",
      "source": [
        "# İç İçe Koşul Yapısı\n",
        "\n",
        "x = 12\n",
        "y = 8\n",
        "\n",
        "if x > 10:\n",
        "    if y > 5:\n",
        "        print(\"x, 10'dan büyük ve y, 5'ten büyüktür.\")  # Bu satır çalışır\n",
        "    else:\n",
        "        print(\"x, 10'dan büyük ama y, 5'ten küçük veya eşittir.\")\n",
        "else:\n",
        "    print(\"x, 10'dan küçük veya eşittir.\")\n",
        ""
      ],
      "metadata": {
        "colab": {
          "base_uri": "https://localhost:8080/"
        },
        "id": "HVarL0N76GZR",
        "outputId": "f93f648e-5352-4de4-f0cd-051fcc87a0b8"
      },
      "execution_count": 4,
      "outputs": [
        {
          "output_type": "stream",
          "name": "stdout",
          "text": [
            "x, 10'dan büyük ve y, 5'ten büyüktür.\n"
          ]
        }
      ]
    },
    {
      "cell_type": "code",
      "source": [
        "# Mantıksal Operatörler ile Koşullar\n",
        "\n",
        "x = 7\n",
        "y = 3\n",
        "\n",
        "# 'and' operatörü ile\n",
        "if x > 5 and y > 2:\n",
        "    print(\"x, 5'ten büyük ve y, 2'den büyüktür.\")  # Bu satır çalışır\n",
        "\n",
        "# 'or' operatörü ile\n",
        "if x > 5 or y > 5:\n",
        "    print(\"x veya y, 5'ten büyüktür.\")  # Bu satır çalışır\n",
        "\n",
        "# 'not' operatörü ile\n",
        "if not (x > 10):\n",
        "    print(\"x, 10'dan büyük değildir.\")  # Bu satır çalışır\n",
        ""
      ],
      "metadata": {
        "colab": {
          "base_uri": "https://localhost:8080/"
        },
        "id": "PCYk859hEkOg",
        "outputId": "55262397-adbd-4541-d7dc-a02385be0709"
      },
      "execution_count": 7,
      "outputs": [
        {
          "output_type": "stream",
          "name": "stdout",
          "text": [
            "x, 5'ten büyük ve y, 2'den büyüktür.\n",
            "x veya y, 5'ten büyüktür.\n",
            "x, 10'dan büyük değildir.\n"
          ]
        }
      ]
    },
    {
      "cell_type": "code",
      "source": [
        "# Örnek 1: Not Sistemi\n",
        "\n",
        "notu = 85 #not farkını gösterilecek...\n",
        "\n",
        "if notu >= 90:\n",
        "    print(\"Harf notu: A\")\n",
        "elif notu >= 80:\n",
        "    print(\"Harf notu: B\")  # Bu satır çalışır\n",
        "elif notu >= 70:\n",
        "    print(\"Harf notu: C\")\n",
        "elif notu >= 60:\n",
        "    print(\"Harf notu: D\")\n",
        "else:\n",
        "    print(\"Harf notu: F\")"
      ],
      "metadata": {
        "colab": {
          "base_uri": "https://localhost:8080/"
        },
        "id": "ga2xEHGqFJft",
        "outputId": "183a63a4-1c46-4bc2-d0b9-dfc822b3c6f6"
      },
      "execution_count": 6,
      "outputs": [
        {
          "output_type": "stream",
          "name": "stdout",
          "text": [
            "Harf notu: B\n"
          ]
        }
      ]
    },
    {
      "cell_type": "code",
      "source": [
        "# Örnek 2: Yaş Kontrolü\n",
        "\n",
        "yas = 20\n",
        "\n",
        "if yas < 18:\n",
        "    print(\"Reşit değilsiniz.\")\n",
        "elif yas < 21:\n",
        "    print(\"Reşitsiniz ama içecek satın alamazsınız.\")\n",
        "else:\n",
        "    print(\"İçecek satın alabilirsiniz.\")"
      ],
      "metadata": {
        "colab": {
          "base_uri": "https://localhost:8080/"
        },
        "id": "DcnMHjA7JaI2",
        "outputId": "1e36218a-2c51-4df5-af8d-22ab8edd4c45"
      },
      "execution_count": 10,
      "outputs": [
        {
          "output_type": "stream",
          "name": "stdout",
          "text": [
            "Reşitsiniz ama içecek satın alamazsınız.\n"
          ]
        }
      ]
    },
    {
      "cell_type": "code",
      "source": [
        "# Örnek 3: Sayı Pozitif, Negatif veya Sıfır mı?\n",
        "\n",
        "sayi = int(input(\"Bir sayı gir\"))\n",
        "\n",
        "if sayi > 0:\n",
        "    print(\"Sayı pozitiftir.\")\n",
        "elif sayi < 0:\n",
        "    print(\"Sayı negatiftir.\")  # Bu satır çalışır\n",
        "else:\n",
        "    print(\"Sayı sıfırdır.\")"
      ],
      "metadata": {
        "colab": {
          "base_uri": "https://localhost:8080/"
        },
        "id": "HkmyNEDfJhSO",
        "outputId": "ad8703ed-75e3-418f-fe24-023a580069c9"
      },
      "execution_count": 11,
      "outputs": [
        {
          "output_type": "stream",
          "name": "stdout",
          "text": [
            "Bir sayı gir8\n",
            "Sayı pozitiftir.\n"
          ]
        }
      ]
    }
  ]
}