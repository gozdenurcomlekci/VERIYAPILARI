{
  "nbformat": 4,
  "nbformat_minor": 0,
  "metadata": {
    "colab": {
      "provenance": []
    },
    "kernelspec": {
      "name": "python3",
      "display_name": "Python 3"
    },
    "language_info": {
      "name": "python"
    }
  },
  "cells": [
    {
      "cell_type": "markdown",
      "source": [
        "Pointer C dili öğrenminde çok önemli bir kavramdır. Her değişkenin bellekte bir alan kaplar ve bu alanların adresleri vardır. Program çalıştırıldığında CPU tanımlanan değişkenlere ulaşmak için bu adreslere gider. Konunun devamı noktasında kaynak \"Örneklerle Uygulamalı C ve C++ (1)\" kitabında sayfa 200 - 206 arasında konu anlatılmaktadır.\n",
        "\n",
        "(1). Prof. Dr. Ercan Nurcan YILMAZ & Dr. Öğr. Üyesi Serkan GÖNEN, \"Örneklerle Uygulamalı C ve C++ - 2023\", İstanbul Gelişim Üniversitesi Yayınları, İstanbul, 2023."
      ],
      "metadata": {
        "id": "juC5kVmUAcoO"
      }
    },
    {
      "cell_type": "code",
      "execution_count": 1,
      "metadata": {
        "colab": {
          "base_uri": "https://localhost:8080/"
        },
        "id": "v1U7k0pz-u8K",
        "outputId": "1f3091d1-f0e2-41d8-aa76-28c10f6197da"
      },
      "outputs": [
        {
          "output_type": "stream",
          "name": "stdout",
          "text": [
            "Listede bulunan çift sayılar: [2, 6, 8, 14]\n",
            "Adet çift sayı 4 bulunmaktadır !!!\n"
          ]
        }
      ],
      "source": [
        "# Liste tanımlama\n",
        "dizi = [2, 3, 5, 6, 8, 11, 14]\n",
        "\n",
        "# Çift sayıları tutmak için boş liste\n",
        "numaralistesi = []\n",
        "\n",
        "# For ve if ile çift sayıları bulma\n",
        "for i in dizi:\n",
        "    if i % 2 == 0:\n",
        "        numaralistesi.append(i)\n",
        "\n",
        "print(\"Listede bulunan çift sayılar:\", numaralistesi)\n",
        "print(\"Adet çift sayı\", len(numaralistesi), \"bulunmaktadır !!!\")"
      ]
    },
    {
      "cell_type": "code",
      "source": [
        "dizi = [\"elma\", \"muz\", \"çilek\", \"su\", \"cikolata\"] # Malzeme Listesi\n",
        "\n",
        "aranacak_urun = \"muz\" # Aranacak eleman\n",
        "\n",
        "if aranacak_urun in dizi:\n",
        "    print(aranacak_urun, \"liste içerisinde mevcut.\")\n",
        "else:\n",
        "    print(aranacak_urun, \"liste içerisinde mevcut değil.\")"
      ],
      "metadata": {
        "colab": {
          "base_uri": "https://localhost:8080/"
        },
        "id": "NZAesbkrAtde",
        "outputId": "31e9f5a9-6dd1-4496-e728-f2f7061ead53"
      },
      "execution_count": 2,
      "outputs": [
        {
          "output_type": "stream",
          "name": "stdout",
          "text": [
            "muz liste içerisinde mevcut.\n"
          ]
        }
      ]
    },
    {
      "cell_type": "code",
      "source": [
        "dizi = [\"elma\", \"muz\", \"çilek\", \"su\", \"cikolata\"] # Malzeme Listesi\n",
        "\n",
        "aranacak_urun = input(\"Aranacak Ürün Nedir? \") # Aranacak eleman\n",
        "\n",
        "if aranacak_urun in dizi:\n",
        "    print(aranacak_urun, \"liste içerisinde mevcut.\")\n",
        "else:\n",
        "    print(aranacak_urun, \"liste içerisinde mevcut değil.\")\n",
        ""
      ],
      "metadata": {
        "colab": {
          "base_uri": "https://localhost:8080/"
        },
        "id": "uznirAZGAv4e",
        "outputId": "ce4f9243-7f3d-4236-954d-05f2ec301c08"
      },
      "execution_count": 3,
      "outputs": [
        {
          "output_type": "stream",
          "name": "stdout",
          "text": [
            "Aranacak Ürün Nedir? su\n",
            "su liste içerisinde mevcut.\n"
          ]
        }
      ]
    },
    {
      "cell_type": "markdown",
      "source": [
        "Aranacak Ürün Nedir? muz\n",
        "muz liste içerisinde mevcut.\n",
        "Python Veri Yapılarında Fonksiyonlar ve Kullanım Kuralları\n",
        "\n",
        "Fonksiyonlar, belirli bir kod üzerinde ilgili görevi gerçekleştiren kod bloklarıdır.\n",
        "\n",
        "Bir fonksiyon tanımlandığında, ona bir özel isim verilir ve gerektiğinde bu isimle çağrılarak çalıştırılır.\n",
        "\n",
        "Fonksiyonlar kodun bütünlüğünde aynı kodu tekrar tekrar yazmak yerine; kodu daha modüler, yeniden kullanılabilir ve anlaşılır hale getirir.\n",
        "\n",
        "Fonksiyonların Kullanım Nedenleri-->\n",
        "\n",
        "Kodun Tekrarını Azaltır\n",
        "Modülerlik Sağlar\n",
        "Anlaşılabilirlik ve Bakım Kolaylığı\n",
        "Yeniden Kullanılabilirlik"
      ],
      "metadata": {
        "id": "6iSGem7OA9Cw"
      }
    },
    {
      "cell_type": "code",
      "source": [
        "# Matematiksel Toplama İşlemi\n",
        "\n",
        "def toplama(a, b):\n",
        "    return a + b\n",
        "\n",
        "# Fonksiyonu çağırarak kullanma\n",
        "sonuc = toplama(5, 3)\n",
        "print(f\"Toplama sonucu: {sonuc}\")\n",
        "print(\"Toplama sonucu: \",sonuc)"
      ],
      "metadata": {
        "colab": {
          "base_uri": "https://localhost:8080/"
        },
        "id": "SYclLU2OA-_X",
        "outputId": "81980418-a99a-4607-e12b-7aa022903340"
      },
      "execution_count": 4,
      "outputs": [
        {
          "output_type": "stream",
          "name": "stdout",
          "text": [
            "Toplama sonucu: 8\n",
            "Toplama sonucu:  8\n"
          ]
        }
      ]
    },
    {
      "cell_type": "code",
      "source": [
        " # Liste Elemanlarını Toplama\n",
        "sayilar = [1, 2, 3, 4, 5]\n",
        "\n",
        "def liste_toplam(liste):\n",
        "    toplam = 0\n",
        "    for eleman in liste:\n",
        "        toplam += eleman\n",
        "    return toplam\n",
        "\n",
        "# Fonksiyonu çağırarak kullanma\n",
        "sonuc = liste_toplam(sayilar)\n",
        "print(\"Toplama sonucu: \",sonuc)"
      ],
      "metadata": {
        "colab": {
          "base_uri": "https://localhost:8080/"
        },
        "id": "7IuN3TQOBFW_",
        "outputId": "d4c5fca8-f672-4937-a16d-62f5445e2867"
      },
      "execution_count": 5,
      "outputs": [
        {
          "output_type": "stream",
          "name": "stdout",
          "text": [
            "Toplama sonucu:  15\n"
          ]
        }
      ]
    },
    {
      "cell_type": "code",
      "source": [],
      "metadata": {
        "id": "BDRcyD63BLX-"
      },
      "execution_count": null,
      "outputs": []
    }
  ]
}