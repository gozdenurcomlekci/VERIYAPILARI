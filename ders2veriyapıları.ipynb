{
  "nbformat": 4,
  "nbformat_minor": 0,
  "metadata": {
    "colab": {
      "provenance": []
    },
    "kernelspec": {
      "name": "python3",
      "display_name": "Python 3"
    },
    "language_info": {
      "name": "python"
    }
  },
  "cells": [
    {
      "cell_type": "code",
      "execution_count": 22,
      "metadata": {
        "collapsed": true,
        "id": "C-VpyP7a6NYC"
      },
      "outputs": [],
      "source": [
        "  #Gecerli değişken tanımlaması\n",
        "degisken1 =10\n",
        "Degisken2 =20\n",
        "_degisken3 =30"
      ]
    },
    {
      "cell_type": "code",
      "source": [
        " #Degisken tanımlama işlemi\n",
        "\n",
        "x= 5\n",
        "y= \"Merhaba Dünya\"\n",
        "\n",
        "print(x)\n",
        "print(y)"
      ],
      "metadata": {
        "colab": {
          "base_uri": "https://localhost:8080/"
        },
        "collapsed": true,
        "id": "pg2D2jQd7I82",
        "outputId": "62e21379-af8a-4d5d-f1ee-d9a90a8c0280"
      },
      "execution_count": 19,
      "outputs": [
        {
          "output_type": "stream",
          "name": "stdout",
          "text": [
            "5\n",
            "Merhaba Dünya\n"
          ]
        }
      ]
    },
    {
      "cell_type": "code",
      "source": [
        "#integer-tamsayı tanımlaması\n",
        "a=10\n",
        "print(type(a))"
      ],
      "metadata": {
        "colab": {
          "base_uri": "https://localhost:8080/"
        },
        "collapsed": true,
        "id": "eVVQSV7b8AzN",
        "outputId": "3f68ae27-5a28-4604-ce89-97e1b9616a22"
      },
      "execution_count": 20,
      "outputs": [
        {
          "output_type": "stream",
          "name": "stdout",
          "text": [
            "<class 'int'>\n"
          ]
        }
      ]
    },
    {
      "cell_type": "code",
      "source": [
        "#Float-ondalık sayı tanımlaması\n",
        "\n",
        "b=20.5\n",
        "print(type(b))\n",
        "\n"
      ],
      "metadata": {
        "id": "qt7bDq6Y8W1P"
      },
      "execution_count": null,
      "outputs": []
    },
    {
      "cell_type": "code",
      "source": [
        "#int'den float'a çevrimin gerçekleştirilmesi\n",
        "x=10\n",
        "y=float(x)\n",
        "print(y,type(y))"
      ],
      "metadata": {
        "colab": {
          "base_uri": "https://localhost:8080/"
        },
        "collapsed": true,
        "id": "DhRNaHh_8lop",
        "outputId": "665ac2b0-20b3-44ec-8ace-6d3f76963357"
      },
      "execution_count": 18,
      "outputs": [
        {
          "output_type": "stream",
          "name": "stdout",
          "text": [
            "10.0 <class 'float'>\n"
          ]
        }
      ]
    },
    {
      "cell_type": "code",
      "source": [
        "#Dictionary-Sözlük Örneği-Öğrencilerin notlarını tutan bir sözlük\n",
        "\n",
        "notlar={\n",
        "    \"Ali\":85,\n",
        "    \"Veli\":90,\n",
        "    \"Ahmet\":78,\n",
        "}\n",
        "notlar[ \"Fatma\"]=92 #Yeni öğrenci ekleme\n",
        "notlar[\"Ali\"]=88 #Bir öğrencinin notunu güncelleme\n",
        "print(notlar)"
      ],
      "metadata": {
        "colab": {
          "base_uri": "https://localhost:8080/"
        },
        "id": "Wf4Aj4UU_s3X",
        "outputId": "c49fc8c6-19ca-4acf-85c0-b2d1f911d2e0"
      },
      "execution_count": 25,
      "outputs": [
        {
          "output_type": "stream",
          "name": "stdout",
          "text": [
            "{'Ali': 88, 'Veli': 90, 'Ahmet': 78, 'Fatma': 92}\n"
          ]
        }
      ]
    },
    {
      "cell_type": "code",
      "source": [
        "print(notlar.keys())\n",
        "print(notlar.values())\n",
        "print(notlar.items())"
      ],
      "metadata": {
        "colab": {
          "base_uri": "https://localhost:8080/"
        },
        "id": "q8yc6ADfBRPg",
        "outputId": "49ce0761-e141-4ac7-8ba1-9fbfae58fe92"
      },
      "execution_count": 26,
      "outputs": [
        {
          "output_type": "stream",
          "name": "stdout",
          "text": [
            "dict_keys(['Ali', 'Veli', 'Ahmet', 'Fatma'])\n",
            "dict_values([88, 90, 78, 92])\n",
            "dict_items([('Ali', 88), ('Veli', 90), ('Ahmet', 78), ('Fatma', 92)])\n"
          ]
        }
      ]
    },
    {
      "cell_type": "code",
      "source": [
        "#Set-Küme Örneği-Bir yazılım etkinliğine katılan kişilerin oluşturduğu kümeler\n",
        "kodyazanlar={\"Ahmet,Mehmet,Veli\"}\n",
        "kodyazmayanlar={\"Ayşe,Fatma,Veli\"}\n",
        "\n",
        "#Kafasına Göre Takılan Öğrenciler\n",
        "ortak=kodyazanlar.intersection(kodyazmayanlar)\n",
        "print(\"Kafasına göre takılan öğrencilerin listesi:\",ortak)\n",
        "\n",
        "#Etkinlikte Kod Çalışması Yapmayan Öğrencilerin Tespiti\n",
        "Kod_yazmayan=kodyazmayanlar.difference(kodyazanlar)\n",
        "print(\"Kod çalışması yapmayan  öğrenci listesi:\",Kod_yazmayan)\n",
        "\n",
        "#Yazılım Egitiminin Öğrenci İmza Listesi\n",
        "imza_listesi=kodyazanlar.union(kodyazmayanlar)\n",
        "print(\"Etkinlik katılımcıları:\",imza_listesi)"
      ],
      "metadata": {
        "colab": {
          "base_uri": "https://localhost:8080/"
        },
        "collapsed": true,
        "id": "zCqh53uVCHPs",
        "outputId": "4ec1025b-0a04-4c46-a12c-1a70251c6fcf"
      },
      "execution_count": 47,
      "outputs": [
        {
          "output_type": "stream",
          "name": "stdout",
          "text": [
            "Kafasına göre takılan öğrencilerin listesi: set()\n",
            "Kod çalışması yapmayan  öğrenci listesi: {'Ayşe,Fatma,Veli'}\n",
            "Etkinlik katılımcıları: {'Ahmet,Mehmet,Veli', 'Ayşe,Fatma,Veli'}\n"
          ]
        }
      ]
    },
    {
      "cell_type": "code",
      "source": [
        "giris = input(\"Bir sayı girin:\")\n",
        "try:\n",
        "  num= float(giris)\n",
        "  print(f\"Girilen sayı:{num},tipi:{type(num)},\",abs(num))\n",
        "except ValueError:\n",
        "    print(\"Geçersiz sayı girdiniz\")"
      ],
      "metadata": {
        "colab": {
          "base_uri": "https://localhost:8080/"
        },
        "id": "dnlQmsWpEXus",
        "outputId": "8858041c-0154-4903-931d-9d91ced22394"
      },
      "execution_count": 34,
      "outputs": [
        {
          "output_type": "stream",
          "name": "stdout",
          "text": [
            "Bir sayı girin:5\n",
            "Girilen sayı:5.0,tipi:<class 'float'>, 5.0\n"
          ]
        }
      ]
    },
    {
      "cell_type": "code",
      "source": [],
      "metadata": {
        "id": "MQBWEqeFFsfo"
      },
      "execution_count": null,
      "outputs": []
    }
  ]
}