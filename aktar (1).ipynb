{
  "cells": [
    {
      "cell_type": "code",
      "execution_count": null,
      "metadata": {
        "colab": {
          "base_uri": "https://localhost:8080/"
        },
        "id": "mfd1zofWNadb",
        "outputId": "063dff5b-a479-432c-b95c-685139f94974"
      },
      "outputs": [
        {
          "name": "stdout",
          "output_type": "stream",
          "text": [
            "Merhaba,İGÜ-İSTKA/ \n"
          ]
        }
      ],
      "source": [
        "print(\"Merhaba,İGÜ-İSTKA/ \")"
      ]
    },
    {
      "cell_type": "code",
      "execution_count": 4,
      "metadata": {
        "colab": {
          "base_uri": "https://localhost:8080/"
        },
        "id": "aoFWIj5-NfGc",
        "outputId": "f6d82bf3-787b-4891-cf1d-88d18c6dddc1"
      },
      "outputs": [
        {
          "output_type": "stream",
          "name": "stdout",
          "text": [
            "3.10.12 (main, Jul 29 2024, 16:56:48) [GCC 11.4.0]\n"
          ]
        }
      ],
      "source": [
        "import sys #import python programlama dilinde yazılım kütüphane eklemeye yarayan bir kod parçası\n",
        "print(sys.version)"
      ]
    },
    {
      "cell_type": "code",
      "execution_count": 6,
      "metadata": {
        "colab": {
          "base_uri": "https://localhost:8080/"
        },
        "id": "WH-Ldmi-NfJL",
        "outputId": "df50936d-3467-40ed-e987-3cf9d778113d"
      },
      "outputs": [
        {
          "output_type": "stream",
          "name": "stdout",
          "text": [
            "Mounted at /content/drive\n"
          ]
        }
      ],
      "source": [
        "from google.colab import drive #google colab-drive bağlantısı\n",
        "\n",
        "drive.mount(\"/content/drive\")"
      ]
    },
    {
      "cell_type": "code",
      "execution_count": 7,
      "metadata": {
        "colab": {
          "base_uri": "https://localhost:8080/"
        },
        "id": "DGNA1FPCNfLz",
        "outputId": "d6bbb1a9-d1a0-43a1-f5bd-ab0ddb6d9800"
      },
      "outputs": [
        {
          "output_type": "stream",
          "name": "stdout",
          "text": [
            "/content/drive/My Drive/VERIYAPILARI_ISTKA\n"
          ]
        }
      ],
      "source": [
        "import os\n",
        "os.chdir(\"/content/drive/My Drive/VERIYAPILARI_ISTKA\")\n",
        "!pwd"
      ]
    },
    {
      "cell_type": "code",
      "execution_count": 8,
      "metadata": {
        "colab": {
          "base_uri": "https://localhost:8080/"
        },
        "id": "gEVbTzvyNns1",
        "outputId": "26331fc0-1566-461c-9f03-5cac41b8a455"
      },
      "outputs": [
        {
          "output_type": "stream",
          "name": "stdout",
          "text": [
            "atktan-geri-kazanm-miktarlar.xlsx dosyası CSV formatına çevrildi.\n"
          ]
        }
      ],
      "source": [
        "import pandas as pd\n",
        "\n",
        "VeriSetiYolu = '/content/drive/My Drive/VERIYAPILARI_ISTKA/veriseti'\n",
        "\n",
        "for file in os.listdir(VeriSetiYolu):                         # Klasördeki tüm dosyaları listele\n",
        "\n",
        "    if file.endswith(('.xlsx', '.xls')):                     # Sadece Excel dosyalarını seç\n",
        "\n",
        "        df = pd.read_excel(os.path.join(VeriSetiYolu, file))  # Excel dosyasını pandas ile oku\n",
        "\n",
        "        df.to_csv(os.path.join(VeriSetiYolu, file.rsplit('.', 1)[0] + '.csv'), index=False)\n",
        "                                                               # DataFrame'i CSV formatında kaydet\n",
        "        print(f\"{file} dosyası CSV formatına çevrildi.\")     # Çevrim İşlemi Çıktısı\n"
      ]
    },
    {
      "cell_type": "code",
      "execution_count": 9,
      "metadata": {
        "id": "TzFF6P66Nnvi",
        "colab": {
          "base_uri": "https://localhost:8080/"
        },
        "outputId": "f26c571b-8b10-4547-951e-705a4dfc0cd5"
      },
      "outputs": [
        {
          "output_type": "stream",
          "name": "stdout",
          "text": [
            "/content/drive/My Drive/VERIYAPILARI_ISTKA\n"
          ]
        }
      ],
      "source": [
        "import os\n",
        "\n",
        "os.chdir('/content/drive/My Drive/VERIYAPILARI_ISTKA')\n",
        "\n",
        "!pwd # bize kodun çıktısını dosya yolu olarak veren kod blogudur."
      ]
    },
    {
      "cell_type": "markdown",
      "source": [],
      "metadata": {
        "id": "Q1fIsp0IFZvL"
      }
    },
    {
      "cell_type": "code",
      "source": [
        "import pandas as pd\n",
        "import matplotlib.pyplot as plt\n",
        "\n",
        "# CSV dosyasını oku\n",
        "dosya_yolu = '/content/drive/My Drive/VERIYAPILARI_ISTKA/veriseti/atktan-geri-kazanm-miktarlar.csv'\n",
        "csv_dosya = pd.read_csv(dosya_yolu)\n",
        "\n",
        "print(csv_dosya)\n",
        ""
      ],
      "metadata": {
        "collapsed": true,
        "colab": {
          "base_uri": "https://localhost:8080/"
        },
        "id": "Lgz_iySWGaBU",
        "outputId": "411c6f9b-8d44-4e5c-dcbc-b39d48178c17"
      },
      "execution_count": 11,
      "outputs": [
        {
          "output_type": "stream",
          "name": "stdout",
          "text": [
            "     Yıl  Üretilen  Kompost Miktarı [ton]  \\\n",
            "0   2004                            16861   \n",
            "1   2009                            10450   \n",
            "2   2014                            17136   \n",
            "3   2015                            18423   \n",
            "4   2016                            18336   \n",
            "5   2017                            18474   \n",
            "6   2018                            14673   \n",
            "7   2019                            16503   \n",
            "8   2020                            19510   \n",
            "9   2021                            11545   \n",
            "10  2022                            14971   \n",
            "11  2023                             6620   \n",
            "\n",
            "    İBB Tesislerinde Geri Dönüştürülen Malzeme Miktarı [ton]  \\\n",
            "0                                                1513          \n",
            "1                                                8454          \n",
            "2                                               17425          \n",
            "3                                                7069          \n",
            "4                                               18815          \n",
            "5                                               10974          \n",
            "6                                                9163          \n",
            "7                                                8832          \n",
            "8                                                4627          \n",
            "9                                                4793          \n",
            "10                                               3856          \n",
            "11                                               3073          \n",
            "\n",
            "    Atıktan Türetilmiş Yakıt Miktarı [ton]  \\\n",
            "0                                      NaN   \n",
            "1                                   1087.0   \n",
            "2                                  35552.0   \n",
            "3                                  63894.0   \n",
            "4                                  39602.0   \n",
            "5                                  13291.0   \n",
            "6                                  21757.0   \n",
            "7                                  26417.0   \n",
            "8                                  11726.0   \n",
            "9                                  11047.0   \n",
            "10                                 30952.0   \n",
            "11                                 29870.0   \n",
            "\n",
            "    Çöp Gazından Üretilen Elektrik Enerjisi Miktarları [MWh]  \n",
            "0                                                5938         \n",
            "1                                               70895         \n",
            "2                                              336547         \n",
            "3                                              282225         \n",
            "4                                              404330         \n",
            "5                                              389299         \n",
            "6                                              376765         \n",
            "7                                              477608         \n",
            "8                                              455892         \n",
            "9                                              843748         \n",
            "10                                            1306116         \n",
            "11                                            1316731         \n"
          ]
        }
      ]
    },
    {
      "cell_type": "code",
      "source": [
        "# Verileri hazırlama\n",
        "id = csv_dosya.iloc[:, 0]\n",
        "print(id)"
      ],
      "metadata": {
        "colab": {
          "base_uri": "https://localhost:8080/"
        },
        "id": "wwl6R_vRIRs-",
        "outputId": "c1805a7f-c01e-4f1d-806d-aabe6ef18650"
      },
      "execution_count": 15,
      "outputs": [
        {
          "output_type": "stream",
          "name": "stdout",
          "text": [
            "0     2004\n",
            "1     2009\n",
            "2     2014\n",
            "3     2015\n",
            "4     2016\n",
            "5     2017\n",
            "6     2018\n",
            "7     2019\n",
            "8     2020\n",
            "9     2021\n",
            "10    2022\n",
            "11    2023\n",
            "Name: Yıl, dtype: int64\n"
          ]
        }
      ]
    },
    {
      "cell_type": "code",
      "source": [
        "yil_bilgisi = csv_dosya.iloc[:, 0]\n",
        "kompost_miktari = csv_dosya.iloc[:, 1]\n",
        "geri_donusturulen_malzeme_miktari = csv_dosya.iloc[:, 2]\n",
        "atik_yakiti_miktari = csv_dosya.iloc[:, 3]\n",
        "elektrik_enerjisi_miktari = csv_dosya.iloc[:, 4]\n",
        "\n",
        "print(id)\n",
        "print(yil_bilgisi)\n",
        "print(kompost_miktari)\n",
        "print(geri_donusturulen_malzeme_miktari)\n",
        "print(atik_yakiti_miktari)\n",
        "print(elektrik_enerjisi_miktari)"
      ],
      "metadata": {
        "colab": {
          "base_uri": "https://localhost:8080/"
        },
        "id": "DgEIjX_ZKXrB",
        "outputId": "bf1cda52-4715-4c86-b1a0-1bd40bde7893"
      },
      "execution_count": 23,
      "outputs": [
        {
          "output_type": "stream",
          "name": "stdout",
          "text": [
            "0     2004\n",
            "1     2009\n",
            "2     2014\n",
            "3     2015\n",
            "4     2016\n",
            "5     2017\n",
            "6     2018\n",
            "7     2019\n",
            "8     2020\n",
            "9     2021\n",
            "10    2022\n",
            "11    2023\n",
            "Name: Yıl, dtype: int64\n",
            "0     2004\n",
            "1     2009\n",
            "2     2014\n",
            "3     2015\n",
            "4     2016\n",
            "5     2017\n",
            "6     2018\n",
            "7     2019\n",
            "8     2020\n",
            "9     2021\n",
            "10    2022\n",
            "11    2023\n",
            "Name: Yıl, dtype: int64\n",
            "0     16861\n",
            "1     10450\n",
            "2     17136\n",
            "3     18423\n",
            "4     18336\n",
            "5     18474\n",
            "6     14673\n",
            "7     16503\n",
            "8     19510\n",
            "9     11545\n",
            "10    14971\n",
            "11     6620\n",
            "Name: Üretilen  Kompost Miktarı [ton], dtype: int64\n",
            "0      1513\n",
            "1      8454\n",
            "2     17425\n",
            "3      7069\n",
            "4     18815\n",
            "5     10974\n",
            "6      9163\n",
            "7      8832\n",
            "8      4627\n",
            "9      4793\n",
            "10     3856\n",
            "11     3073\n",
            "Name: İBB Tesislerinde Geri Dönüştürülen Malzeme Miktarı [ton], dtype: int64\n",
            "0         NaN\n",
            "1      1087.0\n",
            "2     35552.0\n",
            "3     63894.0\n",
            "4     39602.0\n",
            "5     13291.0\n",
            "6     21757.0\n",
            "7     26417.0\n",
            "8     11726.0\n",
            "9     11047.0\n",
            "10    30952.0\n",
            "11    29870.0\n",
            "Name: Atıktan Türetilmiş Yakıt Miktarı [ton], dtype: float64\n",
            "0        5938\n",
            "1       70895\n",
            "2      336547\n",
            "3      282225\n",
            "4      404330\n",
            "5      389299\n",
            "6      376765\n",
            "7      477608\n",
            "8      455892\n",
            "9      843748\n",
            "10    1306116\n",
            "11    1316731\n",
            "Name: Çöp Gazından Üretilen Elektrik Enerjisi Miktarları [MWh], dtype: int64\n"
          ]
        }
      ]
    }
  ],
  "metadata": {
    "colab": {
      "provenance": []
    },
    "kernelspec": {
      "display_name": "Python 3",
      "name": "python3"
    },
    "language_info": {
      "name": "python"
    }
  },
  "nbformat": 4,
  "nbformat_minor": 0
}