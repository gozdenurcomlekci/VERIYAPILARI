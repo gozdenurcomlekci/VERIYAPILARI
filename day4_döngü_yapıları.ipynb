{
  "nbformat": 4,
  "nbformat_minor": 0,
  "metadata": {
    "colab": {
      "provenance": []
    },
    "kernelspec": {
      "name": "python3",
      "display_name": "Python 3"
    },
    "language_info": {
      "name": "python"
    }
  },
  "cells": [
    {
      "cell_type": "markdown",
      "source": [
        "PYTHON Döngü Yapıları\n",
        "\n",
        " Döngüler, belirli bir kod bölümünün birden fazla çalıştırmamıza olanak tanır. Döngüler, genellikle yazılımda tekrar eden işlemler için kullanılır.\n",
        "\n",
        "Döngü Türleri:\n",
        "\n",
        "for Döngüsü--> Belirli bir sıralama üzerinde iterasyon yapmak için kullanılır. Genellikle bir liste, dizi veya range fonksiyonu ile kullanılır.\n",
        "\n",
        "while Döngüsü--> Belirli bir koşul doğru olduğu sürece kod bloğunu çalıştırır."
      ],
      "metadata": {
        "id": "VjTaHhulLOZC"
      }
    },
    {
      "cell_type": "code",
      "execution_count": 1,
      "metadata": {
        "colab": {
          "base_uri": "https://localhost:8080/"
        },
        "id": "P7OHX7F2KVmc",
        "outputId": "eb3d0e4f-a796-4b49-aace-3067f18949b6"
      },
      "outputs": [
        {
          "output_type": "stream",
          "name": "stdout",
          "text": [
            "0\n",
            "1\n",
            "2\n",
            "3\n",
            "4\n"
          ]
        }
      ],
      "source": [
        "# for döngüsü örneği: 0'dan 4'e kadar olan sayıları yazdırılması işlemidir.\n",
        "for i in range(5):\n",
        "    print(i)\n",
        ""
      ]
    },
    {
      "cell_type": "code",
      "source": [
        "# while döngüsü örneği: 0'dan 4'e kadar olan sayıları yazdırılması işlemidir.\n",
        "i = 0\n",
        "while i < 5:\n",
        "    print(i)\n",
        "    i += 1\n"
      ],
      "metadata": {
        "colab": {
          "base_uri": "https://localhost:8080/"
        },
        "id": "FuHd-EUiN0i3",
        "outputId": "e859fb9d-fc42-4362-8682-f3cb81211f7c"
      },
      "execution_count": 2,
      "outputs": [
        {
          "output_type": "stream",
          "name": "stdout",
          "text": [
            "0\n",
            "1\n",
            "2\n",
            "3\n",
            "4\n"
          ]
        }
      ]
    },
    {
      "cell_type": "code",
      "source": [
        "# Kullanıcıdan bir sayı alınması\n",
        "kullanici_girdisi = int(input(\"Bir sayı girin: \"))\n",
        "\n",
        "# 0'dan kullanıcı tarafından girilen sayıya kadar sıralama yapma\n",
        "i = 0\n",
        "while i <= kullanici_girdisi:\n",
        "    print(i)\n",
        "    i += 1"
      ],
      "metadata": {
        "colab": {
          "base_uri": "https://localhost:8080/"
        },
        "id": "amVkuSb3Om7O",
        "outputId": "f6ab6816-631d-44d3-a38b-3cd6e48bd74c"
      },
      "execution_count": 3,
      "outputs": [
        {
          "output_type": "stream",
          "name": "stdout",
          "text": [
            "Bir sayı girin: 6\n",
            "0\n",
            "1\n",
            "2\n",
            "3\n",
            "4\n",
            "5\n",
            "6\n"
          ]
        }
      ]
    },
    {
      "cell_type": "code",
      "source": [
        "# break örneği: 3'e ulaştığında döngü sonlandıran kod blogudur.\n",
        "for i in range(5):\n",
        "    if i == 3:\n",
        "        break\n",
        "    print(i)"
      ],
      "metadata": {
        "colab": {
          "base_uri": "https://localhost:8080/"
        },
        "id": "TYZIHQkuO4XW",
        "outputId": "c42642ae-95e1-4a63-8ca0-78d8c492f977"
      },
      "execution_count": 4,
      "outputs": [
        {
          "output_type": "stream",
          "name": "stdout",
          "text": [
            "0\n",
            "1\n",
            "2\n"
          ]
        }
      ]
    },
    {
      "cell_type": "code",
      "source": [
        "# continue örneği: 3'e ulaştığında o tekrar işlemini es geçen kod blogudur.\n",
        "for i in range(5):\n",
        "    if i == 3:\n",
        "        continue\n",
        "    print(i)"
      ],
      "metadata": {
        "colab": {
          "base_uri": "https://localhost:8080/"
        },
        "id": "z1KJsQ11Qq_J",
        "outputId": "3e0a69ee-bab4-48b1-e1ef-6574062f6b87"
      },
      "execution_count": 5,
      "outputs": [
        {
          "output_type": "stream",
          "name": "stdout",
          "text": [
            "0\n",
            "1\n",
            "2\n",
            "4\n"
          ]
        }
      ]
    },
    {
      "cell_type": "code",
      "source": [
        "# iç içe for döngüsü örneği: 2 boyutlu bir matrisin elemanları üzerinde işlemler\n",
        "matris = [\n",
        "    [1, 2, 3],\n",
        "    [4, 5, 6],\n",
        "    [7, 8, 9]\n",
        "]\n",
        "\n",
        "for x in matris:\n",
        "    for y in x:\n",
        "        print(y)\n",
        ""
      ],
      "metadata": {
        "colab": {
          "base_uri": "https://localhost:8080/"
        },
        "id": "5WtU1UxjRoXw",
        "outputId": "acf60717-654a-498e-a119-c6fd9633b25c"
      },
      "execution_count": 6,
      "outputs": [
        {
          "output_type": "stream",
          "name": "stdout",
          "text": [
            "1\n",
            "2\n",
            "3\n",
            "4\n",
            "5\n",
            "6\n",
            "7\n",
            "8\n",
            "9\n"
          ]
        }
      ]
    },
    {
      "cell_type": "code",
      "source": [
        "#kullanıcıdan bilgi alınması\n",
        "while True:\n",
        "    try:\n",
        "        gelen_bilgi = int(input(\"Bir sayı girin: \"))\n",
        "        break\n",
        "    except ValueError:\n",
        "        print(\"Lütfen geçerli bir sayı girin!\")\n",
        "\n",
        "# 0'dan kullanıcı tarafından girilen sayıya kadar sıralama yapma\n",
        "i = 0\n",
        "while i <= gelen_bilgi:\n",
        "    print(i)\n",
        "    i += 1\n",
        ""
      ],
      "metadata": {
        "colab": {
          "base_uri": "https://localhost:8080/"
        },
        "id": "AA7zVWBoTv5g",
        "outputId": "a247324d-a906-46e0-f220-62cdffc561d2"
      },
      "execution_count": 10,
      "outputs": [
        {
          "output_type": "stream",
          "name": "stdout",
          "text": [
            "Bir sayı girin: 5\n",
            "0\n",
            "1\n",
            "2\n",
            "3\n",
            "4\n",
            "5\n"
          ]
        }
      ]
    },
    {
      "cell_type": "code",
      "source": [
        "# while döngüsü örneği: kullanıcı bakiye bilgisinin sorgulanması\n",
        "toplam_ucret = 900\n",
        "while toplam_ucret > 0:\n",
        "    try:\n",
        "        celilen_tutar = int(input(\"Çekmek istediğiniz miktarı girin: \"))\n",
        "        if celilen_tutar > toplam_ucret:\n",
        "            print(\"Yetersiz bakiye!\")\n",
        "            bilgi = input(\"İşleme devam etmek istiyor musunuz? (e/h): \").lower()\n",
        "            if bilgi == \"h\":\n",
        "                print(\"İşlem sonlandırıldı.\")\n",
        "                break\n",
        "        else:\n",
        "            toplam_ucret -= celilen_tutar\n",
        "            print(f\"Kalan bakiye: {toplam_ucret}\")\n",
        "        if toplam_ucret == 0:\n",
        "            print(\"Bakiye tükendi.\")\n",
        "            break\n",
        "    except ValueError:\n",
        "        print(\"Lütfen geçerli bir sayı girin!\")"
      ],
      "metadata": {
        "colab": {
          "base_uri": "https://localhost:8080/"
        },
        "id": "QMCaczaSUjnH",
        "outputId": "9b72657c-4136-4faf-c58c-6cbe74def7a6"
      },
      "execution_count": 13,
      "outputs": [
        {
          "output_type": "stream",
          "name": "stdout",
          "text": [
            "Çekmek istediğiniz miktarı girin: 800\n",
            "Kalan bakiye: 100\n",
            "Çekmek istediğiniz miktarı girin: 100\n",
            "Kalan bakiye: 0\n",
            "Bakiye tükendi.\n"
          ]
        }
      ]
    },
    {
      "cell_type": "code",
      "source": [],
      "metadata": {
        "id": "NEgoDwnfZRu7"
      },
      "execution_count": null,
      "outputs": []
    }
  ]
}